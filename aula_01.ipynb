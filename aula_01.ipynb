{
  "nbformat": 4,
  "nbformat_minor": 0,
  "metadata": {
    "colab": {
      "provenance": [],
      "authorship_tag": "ABX9TyN6J6ysoIlMocZqm67gL+7F",
      "include_colab_link": true
    },
    "kernelspec": {
      "name": "python3",
      "display_name": "Python 3"
    },
    "language_info": {
      "name": "python"
    }
  },
  "cells": [
    {
      "cell_type": "markdown",
      "metadata": {
        "id": "view-in-github",
        "colab_type": "text"
      },
      "source": [
        "<a href=\"https://colab.research.google.com/github/danielsabino-br/curso-de-Python/blob/main/aula_01.ipynb\" target=\"_parent\"><img src=\"https://colab.research.google.com/assets/colab-badge.svg\" alt=\"Open In Colab\"/></a>"
      ]
    },
    {
      "cell_type": "code",
      "execution_count": 8,
      "metadata": {
        "id": "7_CI9a3THfZ3"
      },
      "outputs": [],
      "source": [
        "import sqlite3 as sq\n",
        "\n",
        "conexao = sq.connect(\"idade.db\") #data base"
      ]
    },
    {
      "cell_type": "code",
      "source": [
        "cursor = conexao.cursor()"
      ],
      "metadata": {
        "id": "AlBrk63XLk_7"
      },
      "execution_count": null,
      "outputs": []
    },
    {
      "cell_type": "code",
      "source": [
        "# Utilizando o Cursor\n",
        "#comando SQL\n",
        "comando_1 = \"Create table idades(nome text, anos text)\"\n",
        "comando_2 = \"insert into idades(nome, anos) values(?,?)\""
      ],
      "metadata": {
        "id": "W2cw475PL6S4"
      },
      "execution_count": null,
      "outputs": []
    },
    {
      "cell_type": "code",
      "source": [
        "cursor.execute(comando_1)"
      ],
      "metadata": {
        "collapsed": true,
        "id": "zlIoh7IKM22J"
      },
      "execution_count": null,
      "outputs": []
    },
    {
      "cell_type": "code",
      "source": [
        "cursor.execute(comando_2, (\"Pedro\", \"30\"))"
      ],
      "metadata": {
        "id": "3j5hH04BOeSn"
      },
      "execution_count": null,
      "outputs": []
    },
    {
      "cell_type": "code",
      "source": [
        "conexao.commit()"
      ],
      "metadata": {
        "id": "h5I47lRYPN93"
      },
      "execution_count": null,
      "outputs": []
    },
    {
      "cell_type": "code",
      "source": [
        "cursor.close()\n",
        "conexao.close()"
      ],
      "metadata": {
        "id": "C03bpZdEPeHH"
      },
      "execution_count": null,
      "outputs": []
    },
    {
      "cell_type": "code",
      "source": [
        "conexao = sq.connect(\"idade.db\")\n",
        "cursor = conexao.cursor()\n",
        "cursor.execute('''\n",
        "      create table idades(nome text, anos text)\n",
        "''')\n",
        "cursor.execute('''\n",
        "      insert into idades(nome, anos) values(?,?)\n",
        "''', (\"Pedro\", \"30\"))\n",
        "conexao.commit()\n",
        "cursor.close()\n",
        "conexao.close()"
      ],
      "metadata": {
        "id": "-ePqNIZ8SF34"
      },
      "execution_count": 9,
      "outputs": []
    },
    {
      "cell_type": "code",
      "source": [],
      "metadata": {
        "id": "7DbVE43qTAGF"
      },
      "execution_count": null,
      "outputs": []
    },
    {
      "cell_type": "markdown",
      "source": [
        "consulta banco de Dados"
      ],
      "metadata": {
        "id": "TipHz7rcUW-T"
      }
    },
    {
      "cell_type": "code",
      "source": [
        "conexao = sq.connect(\"idade.db\")\n",
        "cursor = conexao.cursor()\n",
        "cursor.execute(\"select * from idades\")\n",
        "resultado = cursor.fetchone()\n",
        "print(resultado)\n"
      ],
      "metadata": {
        "colab": {
          "base_uri": "https://localhost:8080/"
        },
        "id": "X50xqCdnUbxG",
        "outputId": "3b620a9b-f4ec-4d8b-8423-331a33754e3c"
      },
      "execution_count": 19,
      "outputs": [
        {
          "output_type": "stream",
          "name": "stdout",
          "text": [
            "('Pedro', '30')\n"
          ]
        }
      ]
    },
    {
      "cell_type": "code",
      "source": [
        "print('Nome: %s \\nIdade: %s '%(resultado))"
      ],
      "metadata": {
        "colab": {
          "base_uri": "https://localhost:8080/"
        },
        "id": "G3lUfjWhX5Ky",
        "outputId": "e60a2e5d-711a-4374-e77a-e58b506b3dd6"
      },
      "execution_count": 20,
      "outputs": [
        {
          "output_type": "stream",
          "name": "stdout",
          "text": [
            "Nome: Pedro \n",
            "Idade: 30 \n"
          ]
        }
      ]
    },
    {
      "cell_type": "markdown",
      "source": [
        "inserindo multiplos registros"
      ],
      "metadata": {
        "id": "H7y4e9moBOly"
      }
    },
    {
      "cell_type": "code",
      "source": [
        "dados = [('Ana', '19'),\n",
        "         ('Vitor','38'),\n",
        "         ('Ricardo','33')]\n",
        ""
      ],
      "metadata": {
        "id": "OPuaNAS4BT0E"
      },
      "execution_count": 21,
      "outputs": []
    },
    {
      "cell_type": "code",
      "source": [
        "dados"
      ],
      "metadata": {
        "id": "rnnMLrv8Byt9"
      },
      "execution_count": null,
      "outputs": []
    },
    {
      "cell_type": "code",
      "source": [
        "cursor.executemany(\"insert into idades(nome, anos) values(?,?)\", dados)\n",
        "conexao.commit()\n",
        "cursor.close()\n",
        "conexao.close()"
      ],
      "metadata": {
        "id": "T5MkJu9sCEeq"
      },
      "execution_count": 23,
      "outputs": []
    },
    {
      "cell_type": "markdown",
      "source": [
        "Consultando os dados"
      ],
      "metadata": {
        "id": "TEbRrSNDEd5i"
      }
    },
    {
      "cell_type": "code",
      "source": [
        "conexao = sq.connect(\"idade.db\")\n",
        "cursor = conexao.cursor()\n",
        "cursor.execute(\"select * from idades\")\n",
        "resultado = cursor.fetchall()\n",
        "print(resultado)"
      ],
      "metadata": {
        "id": "0r8rnpQ3Egdi"
      },
      "execution_count": null,
      "outputs": []
    },
    {
      "cell_type": "markdown",
      "source": [
        "consulta multiplas em uma tabela"
      ],
      "metadata": {
        "id": "SxF4-R0mHOGH"
      }
    },
    {
      "cell_type": "code",
      "source": [
        "results = cursor.execute(\"select * from idades\")\n",
        "for linha in results:\n",
        "    print('Nome: %s - Idade: %s '%(linha))"
      ],
      "metadata": {
        "id": "QH8PkgG9GcEc"
      },
      "execution_count": null,
      "outputs": []
    },
    {
      "cell_type": "markdown",
      "source": [
        "organizar em funções"
      ],
      "metadata": {
        "id": "QwBM7fU_YdkQ"
      }
    },
    {
      "cell_type": "code",
      "source": [],
      "metadata": {
        "id": "cP0qqI30Ymkt"
      },
      "execution_count": null,
      "outputs": []
    }
  ]
}