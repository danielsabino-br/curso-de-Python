{
  "nbformat": 4,
  "nbformat_minor": 0,
  "metadata": {
    "colab": {
      "provenance": [],
      "authorship_tag": "ABX9TyNCUYDnwKMR7tyaja2BvR2R",
      "include_colab_link": true
    },
    "kernelspec": {
      "name": "python3",
      "display_name": "Python 3"
    },
    "language_info": {
      "name": "python"
    }
  },
  "cells": [
    {
      "cell_type": "markdown",
      "metadata": {
        "id": "view-in-github",
        "colab_type": "text"
      },
      "source": [
        "<a href=\"https://colab.research.google.com/github/danielsabino-br/curso-de-Python/blob/main/aula_01_SQLite.ipynb\" target=\"_parent\"><img src=\"https://colab.research.google.com/assets/colab-badge.svg\" alt=\"Open In Colab\"/></a>"
      ]
    },
    {
      "cell_type": "code",
      "execution_count": 56,
      "metadata": {
        "id": "7_CI9a3THfZ3"
      },
      "outputs": [],
      "source": [
        "import sqlite3 as sq\n",
        "\n",
        "conexao = sq.connect(\"idade.db\") #data base"
      ]
    },
    {
      "cell_type": "code",
      "source": [
        "cursor = conexao.cursor()"
      ],
      "metadata": {
        "id": "AlBrk63XLk_7"
      },
      "execution_count": 57,
      "outputs": []
    },
    {
      "cell_type": "code",
      "source": [
        "# Utilizando o Cursor\n",
        "#comando SQL\n",
        "comando_1 = \"Create table idades(nome text, anos text)\"\n",
        "comando_2 = \"insert into idades(nome, anos) values(?,?)\""
      ],
      "metadata": {
        "id": "W2cw475PL6S4"
      },
      "execution_count": 58,
      "outputs": []
    },
    {
      "cell_type": "code",
      "source": [
        "cursor.execute(comando_1)"
      ],
      "metadata": {
        "colab": {
          "base_uri": "https://localhost:8080/"
        },
        "collapsed": true,
        "id": "zlIoh7IKM22J",
        "outputId": "b59dbfe6-ad57-460a-e628-f51276548918"
      },
      "execution_count": 59,
      "outputs": [
        {
          "output_type": "execute_result",
          "data": {
            "text/plain": [
              "<sqlite3.Cursor at 0x7fd168d2a7c0>"
            ]
          },
          "metadata": {},
          "execution_count": 59
        }
      ]
    },
    {
      "cell_type": "code",
      "source": [
        "cursor.execute(comando_2, (\"Pedro\", \"30\"))"
      ],
      "metadata": {
        "colab": {
          "base_uri": "https://localhost:8080/"
        },
        "id": "3j5hH04BOeSn",
        "outputId": "1bd5c983-65fe-4247-dae9-d13406231475"
      },
      "execution_count": 60,
      "outputs": [
        {
          "output_type": "execute_result",
          "data": {
            "text/plain": [
              "<sqlite3.Cursor at 0x7fd168d2a7c0>"
            ]
          },
          "metadata": {},
          "execution_count": 60
        }
      ]
    },
    {
      "cell_type": "code",
      "source": [
        "conexao.commit()"
      ],
      "metadata": {
        "id": "h5I47lRYPN93"
      },
      "execution_count": 61,
      "outputs": []
    },
    {
      "cell_type": "code",
      "source": [
        "cursor.close()\n",
        "conexao.close()"
      ],
      "metadata": {
        "id": "C03bpZdEPeHH"
      },
      "execution_count": 62,
      "outputs": []
    },
    {
      "cell_type": "code",
      "source": [
        "conexao = sq.connect(\"idade.db\")\n",
        "cursor = conexao.cursor()\n",
        "cursor.execute('''\n",
        "      create table idades(nome text, anos text)\n",
        "''')\n",
        "cursor.execute('''\n",
        "      insert into idades(nome, anos) values(?,?)\n",
        "''', (\"Pedro\", \"30\"))\n",
        "conexao.commit()\n",
        "cursor.close()\n",
        "conexao.close()"
      ],
      "metadata": {
        "id": "-ePqNIZ8SF34"
      },
      "execution_count": 63,
      "outputs": []
    },
    {
      "cell_type": "code",
      "source": [],
      "metadata": {
        "id": "7DbVE43qTAGF"
      },
      "execution_count": null,
      "outputs": []
    },
    {
      "cell_type": "markdown",
      "source": [
        "consulta banco de Dados"
      ],
      "metadata": {
        "id": "TipHz7rcUW-T"
      }
    },
    {
      "cell_type": "code",
      "source": [
        "conexao = sq.connect(\"idade.db\")\n",
        "cursor = conexao.cursor()\n",
        "cursor.execute(\"select * from idades\")\n",
        "resultado = cursor.fetchone()\n",
        "print(resultado)\n",
        "cursor.close()\n",
        "conexao.close()"
      ],
      "metadata": {
        "colab": {
          "base_uri": "https://localhost:8080/"
        },
        "id": "X50xqCdnUbxG",
        "outputId": "3bcfd06b-66a0-4e16-900c-4b107987ae09"
      },
      "execution_count": 67,
      "outputs": [
        {
          "output_type": "stream",
          "name": "stdout",
          "text": [
            "('Pedro', '30')\n"
          ]
        }
      ]
    },
    {
      "cell_type": "code",
      "source": [
        "print('Nome: %s \\nIdade: %s '%(resultado))"
      ],
      "metadata": {
        "colab": {
          "base_uri": "https://localhost:8080/"
        },
        "id": "G3lUfjWhX5Ky",
        "outputId": "6587862c-309c-4905-bfcb-53a0de5c9d07"
      },
      "execution_count": 69,
      "outputs": [
        {
          "output_type": "stream",
          "name": "stdout",
          "text": [
            "Nome: Pedro \n",
            "Idade: 30 \n"
          ]
        }
      ]
    }
  ]
}